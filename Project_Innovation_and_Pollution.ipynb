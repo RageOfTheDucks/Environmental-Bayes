{
  "cells": [
    {
      "cell_type": "markdown",
      "id": "e6e564bd",
      "metadata": {
        "id": "e6e564bd"
      },
      "source": [
        "# Innovation and Pollution\n",
        "\n",
        "The thrust for innovation has always been part of our human nature, but just lately we have begun to look at the toll that our modernization has taken on the earth.\n",
        "\n",
        "The impact of the amount of pollution that we generate is a matter that just recently we have begun to analyze in order to avoid unrepairable damage to the environment.\n",
        "\n",
        "In this project, we are going to analyze the relationship between the amount of innovation, the awareness of the market, and technological knowledge concerning the amount of pollution.\n",
        "\n",
        "\n",
        "Link of the used dataset: https://www.kaggle.com/datasets/youneseloiarm/innovations-indices-and-pollution-index?resource=download\n"
      ]
    },
    {
      "cell_type": "code",
      "execution_count": null,
      "id": "4d63163d",
      "metadata": {
        "scrolled": true,
        "id": "4d63163d",
        "outputId": "4a6da7a6-9d10-4f83-e738-cdaca1fa6b35"
      },
      "outputs": [
        {
          "data": {
            "text/html": [
              "<div>\n",
              "<style scoped>\n",
              "    .dataframe tbody tr th:only-of-type {\n",
              "        vertical-align: middle;\n",
              "    }\n",
              "\n",
              "    .dataframe tbody tr th {\n",
              "        vertical-align: top;\n",
              "    }\n",
              "\n",
              "    .dataframe thead th {\n",
              "        text-align: right;\n",
              "    }\n",
              "</style>\n",
              "<table border=\"1\" class=\"dataframe\">\n",
              "  <thead>\n",
              "    <tr style=\"text-align: right;\">\n",
              "      <th></th>\n",
              "      <th>Country</th>\n",
              "      <th>Global_innovation_indices</th>\n",
              "      <th>Business_Sophistication</th>\n",
              "      <th>Creative_output</th>\n",
              "      <th>Humain_capital_and_Research</th>\n",
              "      <th>Infrastructures</th>\n",
              "      <th>Institutions</th>\n",
              "      <th>Knowledge_and_technology_outputs</th>\n",
              "      <th>Market_sophistication</th>\n",
              "      <th>Pollution</th>\n",
              "    </tr>\n",
              "  </thead>\n",
              "  <tbody>\n",
              "    <tr>\n",
              "      <th>0</th>\n",
              "      <td>Sweden</td>\n",
              "      <td>63.1</td>\n",
              "      <td>68.1</td>\n",
              "      <td>52.9</td>\n",
              "      <td>64.1</td>\n",
              "      <td>62.6</td>\n",
              "      <td>88.8</td>\n",
              "      <td>60.3</td>\n",
              "      <td>64.6</td>\n",
              "      <td>18.44</td>\n",
              "    </tr>\n",
              "    <tr>\n",
              "      <th>1</th>\n",
              "      <td>Singapore</td>\n",
              "      <td>57.8</td>\n",
              "      <td>62.7</td>\n",
              "      <td>42.9</td>\n",
              "      <td>58.7</td>\n",
              "      <td>57.8</td>\n",
              "      <td>95.1</td>\n",
              "      <td>48.1</td>\n",
              "      <td>75.9</td>\n",
              "      <td>33.16</td>\n",
              "    </tr>\n",
              "    <tr>\n",
              "      <th>2</th>\n",
              "      <td>Switzerland</td>\n",
              "      <td>65.5</td>\n",
              "      <td>62.6</td>\n",
              "      <td>60.2</td>\n",
              "      <td>60.7</td>\n",
              "      <td>62.7</td>\n",
              "      <td>87.3</td>\n",
              "      <td>64.9</td>\n",
              "      <td>71.5</td>\n",
              "      <td>20.09</td>\n",
              "    </tr>\n",
              "    <tr>\n",
              "      <th>3</th>\n",
              "      <td>Netherlands</td>\n",
              "      <td>58.6</td>\n",
              "      <td>61.0</td>\n",
              "      <td>52.2</td>\n",
              "      <td>55.9</td>\n",
              "      <td>57.7</td>\n",
              "      <td>88.9</td>\n",
              "      <td>54.8</td>\n",
              "      <td>55.2</td>\n",
              "      <td>25.28</td>\n",
              "    </tr>\n",
              "    <tr>\n",
              "      <th>4</th>\n",
              "      <td>Finland</td>\n",
              "      <td>58.4</td>\n",
              "      <td>61.0</td>\n",
              "      <td>42.9</td>\n",
              "      <td>62.4</td>\n",
              "      <td>59.5</td>\n",
              "      <td>93.3</td>\n",
              "      <td>56.5</td>\n",
              "      <td>58.7</td>\n",
              "      <td>11.86</td>\n",
              "    </tr>\n",
              "    <tr>\n",
              "      <th>...</th>\n",
              "      <td>...</td>\n",
              "      <td>...</td>\n",
              "      <td>...</td>\n",
              "      <td>...</td>\n",
              "      <td>...</td>\n",
              "      <td>...</td>\n",
              "      <td>...</td>\n",
              "      <td>...</td>\n",
              "      <td>...</td>\n",
              "      <td>...</td>\n",
              "    </tr>\n",
              "    <tr>\n",
              "      <th>89</th>\n",
              "      <td>Cambodia</td>\n",
              "      <td>22.8</td>\n",
              "      <td>16.2</td>\n",
              "      <td>16.3</td>\n",
              "      <td>17.6</td>\n",
              "      <td>28.9</td>\n",
              "      <td>50.5</td>\n",
              "      <td>11.2</td>\n",
              "      <td>45.8</td>\n",
              "      <td>78.21</td>\n",
              "    </tr>\n",
              "    <tr>\n",
              "      <th>90</th>\n",
              "      <td>Bangladesh</td>\n",
              "      <td>20.2</td>\n",
              "      <td>15.4</td>\n",
              "      <td>9.6</td>\n",
              "      <td>10.1</td>\n",
              "      <td>32.0</td>\n",
              "      <td>45.5</td>\n",
              "      <td>13.7</td>\n",
              "      <td>40.9</td>\n",
              "      <td>84.91</td>\n",
              "    </tr>\n",
              "    <tr>\n",
              "      <th>91</th>\n",
              "      <td>Algeria</td>\n",
              "      <td>19.9</td>\n",
              "      <td>14.7</td>\n",
              "      <td>10.3</td>\n",
              "      <td>29.8</td>\n",
              "      <td>31.8</td>\n",
              "      <td>52.5</td>\n",
              "      <td>8.1</td>\n",
              "      <td>23.7</td>\n",
              "      <td>65.32</td>\n",
              "    </tr>\n",
              "    <tr>\n",
              "      <th>92</th>\n",
              "      <td>Ethiopia</td>\n",
              "      <td>18.6</td>\n",
              "      <td>14.5</td>\n",
              "      <td>8.7</td>\n",
              "      <td>10.5</td>\n",
              "      <td>24.6</td>\n",
              "      <td>48.4</td>\n",
              "      <td>16.2</td>\n",
              "      <td>26.1</td>\n",
              "      <td>77.74</td>\n",
              "    </tr>\n",
              "    <tr>\n",
              "      <th>93</th>\n",
              "      <td>Myanmar</td>\n",
              "      <td>18.4</td>\n",
              "      <td>8.7</td>\n",
              "      <td>7.9</td>\n",
              "      <td>17.7</td>\n",
              "      <td>26.3</td>\n",
              "      <td>45.4</td>\n",
              "      <td>14.4</td>\n",
              "      <td>29.8</td>\n",
              "      <td>89.77</td>\n",
              "    </tr>\n",
              "  </tbody>\n",
              "</table>\n",
              "<p>94 rows × 10 columns</p>\n",
              "</div>"
            ],
            "text/plain": [
              "        Country  Global_innovation_indices  Business_Sophistication  \\\n",
              "0        Sweden                       63.1                     68.1   \n",
              "1     Singapore                       57.8                     62.7   \n",
              "2   Switzerland                       65.5                     62.6   \n",
              "3   Netherlands                       58.6                     61.0   \n",
              "4       Finland                       58.4                     61.0   \n",
              "..          ...                        ...                      ...   \n",
              "89     Cambodia                       22.8                     16.2   \n",
              "90   Bangladesh                       20.2                     15.4   \n",
              "91      Algeria                       19.9                     14.7   \n",
              "92     Ethiopia                       18.6                     14.5   \n",
              "93      Myanmar                       18.4                      8.7   \n",
              "\n",
              "    Creative_output  Humain_capital_and_Research  Infrastructures  \\\n",
              "0              52.9                         64.1             62.6   \n",
              "1              42.9                         58.7             57.8   \n",
              "2              60.2                         60.7             62.7   \n",
              "3              52.2                         55.9             57.7   \n",
              "4              42.9                         62.4             59.5   \n",
              "..              ...                          ...              ...   \n",
              "89             16.3                         17.6             28.9   \n",
              "90              9.6                         10.1             32.0   \n",
              "91             10.3                         29.8             31.8   \n",
              "92              8.7                         10.5             24.6   \n",
              "93              7.9                         17.7             26.3   \n",
              "\n",
              "    Institutions  Knowledge_and_technology_outputs  Market_sophistication  \\\n",
              "0           88.8                              60.3                   64.6   \n",
              "1           95.1                              48.1                   75.9   \n",
              "2           87.3                              64.9                   71.5   \n",
              "3           88.9                              54.8                   55.2   \n",
              "4           93.3                              56.5                   58.7   \n",
              "..           ...                               ...                    ...   \n",
              "89          50.5                              11.2                   45.8   \n",
              "90          45.5                              13.7                   40.9   \n",
              "91          52.5                               8.1                   23.7   \n",
              "92          48.4                              16.2                   26.1   \n",
              "93          45.4                              14.4                   29.8   \n",
              "\n",
              "    Pollution  \n",
              "0       18.44  \n",
              "1       33.16  \n",
              "2       20.09  \n",
              "3       25.28  \n",
              "4       11.86  \n",
              "..        ...  \n",
              "89      78.21  \n",
              "90      84.91  \n",
              "91      65.32  \n",
              "92      77.74  \n",
              "93      89.77  \n",
              "\n",
              "[94 rows x 10 columns]"
            ]
          },
          "execution_count": 2,
          "metadata": {},
          "output_type": "execute_result"
        }
      ],
      "source": [
        "# Import libraries\n",
        "import numpy as np\n",
        "import pandas as pd \n",
        "import matplotlib.pyplot as plt\n",
        "from tabulate import tabulate\n",
        "from pgmpy.factors.discrete import State\n",
        "from pgmpy.models import BayesianModel\n",
        "from pgmpy.factors.discrete import TabularCPD\n",
        "from pgmpy.inference import VariableElimination\n",
        "from pgmpy.sampling import BayesianModelSampling\n",
        "\n",
        "# Import csv\n",
        "file_path = './Innovation_and_Pollution_Data.csv'\n",
        "pollution_data = pd.read_csv(file_path)\n",
        "\n",
        "# Show complete dataset\n",
        "pollution_data"
      ]
    },
    {
      "cell_type": "markdown",
      "id": "73b4ffbb",
      "metadata": {
        "id": "73b4ffbb"
      },
      "source": [
        "---\n",
        "# Values of the dataset:\n",
        " \n",
        "- **Country** : Countries that were studied\n",
        "\n",
        "\n",
        "- **Global_innovation_indices** : Global index of GII organization, So each country has a value between 1 and 100 according to the quality of innovation.\n",
        "\n",
        "\n",
        "- **Business_Sophistication** : Quality of a country’s overall business networks as well as the quality of individual firms’ operations and strategies.\n",
        "\n",
        "\n",
        "- **Creative_output** : Measure of your ability to churn out creations.\n",
        "\n",
        "\n",
        "- **Humain_capital_and_Research** : Concept used by economists and social scientists to designate personal attributes considered useful in the production process. It encompasses employee knowledge, skills, know-how, good health, and education, and research is depending on the quality of R&D.\n",
        "\n",
        "\n",
        "- **Infrastructures** : The system of public works of a country, state, or region also the resources (such as personnel, buildings, or equipment).\n",
        "\n",
        "\n",
        "- **Institutions** : An established organization or corporation (such as a bank or university) especially of a public character financial institutions.\n",
        "\n",
        "\n",
        "- **Knowledge_and_technology_outputs** : Technology refers to the state of knowledge concerning ways of converting resources into outputs and Knowledge is familiarity or awareness, of someone or something, such as facts (descriptive knowledge), skills (procedural knowledge), or objects (acquaintance knowledge) contributing to one's understanding. By most accounts, knowledge can be acquired in many different ways and from many sources, including but not limited to perception, reason, memory, testimony, scientific inquiry, education, and practice.\n",
        "\n",
        "\n",
        "- **Market_sophistication** : The level of awareness (or sophistication) that the market has regarding the global environmental state.\n",
        "\n",
        "\n",
        "- **Pollution** : Introduction of contaminants into the natural environment that cause adverse change. Pollution can take the form of any substance (solid, liquid, or gas) or energy (such as radioactivity, heat, sound, or light)."
      ]
    },
    {
      "cell_type": "code",
      "execution_count": null,
      "id": "90222e1b",
      "metadata": {
        "id": "90222e1b",
        "outputId": "37439771-6683-4290-b6d1-e48185b35064"
      },
      "outputs": [
        {
          "name": "stdout",
          "output_type": "stream",
          "text": [
            "<class 'pandas.core.frame.DataFrame'>\n",
            "RangeIndex: 94 entries, 0 to 93\n",
            "Data columns (total 10 columns):\n",
            " #   Column                            Non-Null Count  Dtype  \n",
            "---  ------                            --------------  -----  \n",
            " 0   Country                           94 non-null     object \n",
            " 1   Global_innovation_indices         94 non-null     float64\n",
            " 2   Business_Sophistication           94 non-null     float64\n",
            " 3   Creative_output                   94 non-null     float64\n",
            " 4   Humain_capital_and_Research       94 non-null     float64\n",
            " 5   Infrastructures                   94 non-null     float64\n",
            " 6   Institutions                      94 non-null     float64\n",
            " 7   Knowledge_and_technology_outputs  94 non-null     float64\n",
            " 8   Market_sophistication             94 non-null     float64\n",
            " 9   Pollution                         94 non-null     float64\n",
            "dtypes: float64(9), object(1)\n",
            "memory usage: 7.5+ KB\n",
            "\n",
            "-------------------------------\n",
            "\n",
            "Total number of countries: 94\n"
          ]
        }
      ],
      "source": [
        "# Total number of countries analyzed\n",
        "total_countries = len(pollution_data)\n",
        "\n",
        "# Some information about the data\n",
        "pollution_data.info()\n",
        "\n",
        "print(\"\\n-------------------------------\\n\\nTotal number of countries:\", total_countries)"
      ]
    },
    {
      "cell_type": "markdown",
      "id": "6faea063",
      "metadata": {
        "id": "6faea063"
      },
      "source": [
        "The dataset, as we can see, it's a **simplified representation** of this real global phenomenon The goal, working with these restricted amounts of data, is to:\n",
        "\n",
        "- Provide **general information** about this topic\n",
        "\n",
        "\n",
        "- **Spread awareness**\n",
        "\n",
        "\n",
        "- Research the **correlation** between these commonly used evaluations.\n",
        "\n",
        "**Reasoning pattern**: Given **evidence →** Generate **analysis** and provide **explanation**"
      ]
    },
    {
      "cell_type": "markdown",
      "id": "ee65b1e1",
      "metadata": {
        "id": "ee65b1e1"
      },
      "source": [
        "---\n",
        "# Initial setup of the data\n",
        "\n",
        "In order to create our Baysian network we will need to work with the probabilities of our desired information.\n",
        "\n",
        "The network, which we are going to consider, analyze the relationship and the correlation between:\n",
        "\n",
        "- **Knowledge and technology outputs**\n",
        "\n",
        "\n",
        "- **Business sophistication**\n",
        "\n",
        "\n",
        "- **Market sophistication**\n",
        "\n",
        "\n",
        "- **Global innovation indices (GII)**\n",
        "\n",
        "\n",
        "- **Pollution**\n",
        "\n",
        "These five indicators were chosen because we believe that these encapsulate the most influential thrust in the innovation-pollution process."
      ]
    },
    {
      "cell_type": "markdown",
      "id": "721cdcf3",
      "metadata": {
        "id": "721cdcf3"
      },
      "source": [
        "### Data preprocessing\n",
        "\n",
        "In order to simplify the dataset we performed some preprocessing in order to:\n",
        "\n",
        "- **Drop columns** not relavant for our current research\n",
        "\n",
        "\n",
        "- Apply **discretization** to the values of the dataset"
      ]
    },
    {
      "cell_type": "code",
      "execution_count": null,
      "id": "e6d34ff2",
      "metadata": {
        "id": "e6d34ff2",
        "outputId": "1d375518-e029-4f2c-9214-a26e066c9047"
      },
      "outputs": [
        {
          "data": {
            "text/html": [
              "<div>\n",
              "<style scoped>\n",
              "    .dataframe tbody tr th:only-of-type {\n",
              "        vertical-align: middle;\n",
              "    }\n",
              "\n",
              "    .dataframe tbody tr th {\n",
              "        vertical-align: top;\n",
              "    }\n",
              "\n",
              "    .dataframe thead th {\n",
              "        text-align: right;\n",
              "    }\n",
              "</style>\n",
              "<table border=\"1\" class=\"dataframe\">\n",
              "  <thead>\n",
              "    <tr style=\"text-align: right;\">\n",
              "      <th></th>\n",
              "      <th>Global_innovation_indices</th>\n",
              "      <th>Business_Sophistication</th>\n",
              "      <th>Knowledge_and_technology_outputs</th>\n",
              "      <th>Market_sophistication</th>\n",
              "      <th>Pollution</th>\n",
              "    </tr>\n",
              "  </thead>\n",
              "  <tbody>\n",
              "    <tr>\n",
              "      <th>0</th>\n",
              "      <td>1</td>\n",
              "      <td>1</td>\n",
              "      <td>1</td>\n",
              "      <td>1</td>\n",
              "      <td>0</td>\n",
              "    </tr>\n",
              "    <tr>\n",
              "      <th>1</th>\n",
              "      <td>1</td>\n",
              "      <td>1</td>\n",
              "      <td>0</td>\n",
              "      <td>1</td>\n",
              "      <td>0</td>\n",
              "    </tr>\n",
              "    <tr>\n",
              "      <th>2</th>\n",
              "      <td>1</td>\n",
              "      <td>1</td>\n",
              "      <td>1</td>\n",
              "      <td>1</td>\n",
              "      <td>0</td>\n",
              "    </tr>\n",
              "    <tr>\n",
              "      <th>3</th>\n",
              "      <td>1</td>\n",
              "      <td>1</td>\n",
              "      <td>1</td>\n",
              "      <td>1</td>\n",
              "      <td>0</td>\n",
              "    </tr>\n",
              "    <tr>\n",
              "      <th>4</th>\n",
              "      <td>1</td>\n",
              "      <td>1</td>\n",
              "      <td>1</td>\n",
              "      <td>1</td>\n",
              "      <td>0</td>\n",
              "    </tr>\n",
              "    <tr>\n",
              "      <th>5</th>\n",
              "      <td>1</td>\n",
              "      <td>1</td>\n",
              "      <td>1</td>\n",
              "      <td>1</td>\n",
              "      <td>1</td>\n",
              "    </tr>\n",
              "    <tr>\n",
              "      <th>6</th>\n",
              "      <td>0</td>\n",
              "      <td>1</td>\n",
              "      <td>0</td>\n",
              "      <td>0</td>\n",
              "      <td>0</td>\n",
              "    </tr>\n",
              "    <tr>\n",
              "      <th>7</th>\n",
              "      <td>1</td>\n",
              "      <td>1</td>\n",
              "      <td>0</td>\n",
              "      <td>1</td>\n",
              "      <td>0</td>\n",
              "    </tr>\n",
              "    <tr>\n",
              "      <th>8</th>\n",
              "      <td>1</td>\n",
              "      <td>1</td>\n",
              "      <td>0</td>\n",
              "      <td>1</td>\n",
              "      <td>0</td>\n",
              "    </tr>\n",
              "    <tr>\n",
              "      <th>9</th>\n",
              "      <td>1</td>\n",
              "      <td>1</td>\n",
              "      <td>1</td>\n",
              "      <td>1</td>\n",
              "      <td>0</td>\n",
              "    </tr>\n",
              "    <tr>\n",
              "      <th>10</th>\n",
              "      <td>1</td>\n",
              "      <td>1</td>\n",
              "      <td>1</td>\n",
              "      <td>1</td>\n",
              "      <td>1</td>\n",
              "    </tr>\n",
              "    <tr>\n",
              "      <th>11</th>\n",
              "      <td>0</td>\n",
              "      <td>1</td>\n",
              "      <td>0</td>\n",
              "      <td>0</td>\n",
              "      <td>1</td>\n",
              "    </tr>\n",
              "  </tbody>\n",
              "</table>\n",
              "</div>"
            ],
            "text/plain": [
              "   Global_innovation_indices Business_Sophistication  \\\n",
              "0                          1                       1   \n",
              "1                          1                       1   \n",
              "2                          1                       1   \n",
              "3                          1                       1   \n",
              "4                          1                       1   \n",
              "5                          1                       1   \n",
              "6                          0                       1   \n",
              "7                          1                       1   \n",
              "8                          1                       1   \n",
              "9                          1                       1   \n",
              "10                         1                       1   \n",
              "11                         0                       1   \n",
              "\n",
              "   Knowledge_and_technology_outputs Market_sophistication Pollution  \n",
              "0                                 1                     1         0  \n",
              "1                                 0                     1         0  \n",
              "2                                 1                     1         0  \n",
              "3                                 1                     1         0  \n",
              "4                                 1                     1         0  \n",
              "5                                 1                     1         1  \n",
              "6                                 0                     0         0  \n",
              "7                                 0                     1         0  \n",
              "8                                 0                     1         0  \n",
              "9                                 1                     1         0  \n",
              "10                                1                     1         1  \n",
              "11                                0                     0         1  "
            ]
          },
          "execution_count": 4,
          "metadata": {},
          "output_type": "execute_result"
        }
      ],
      "source": [
        "pl = pollution_data\n",
        "\n",
        "# Drop columns not necessary for our network\n",
        "pl = pl.drop(axis='columns', labels=['Country', 'Creative_output', 'Humain_capital_and_Research', 'Infrastructures', 'Institutions'])\n",
        "\n",
        "# Create discretized table\n",
        "# Labels 0 = low 1 = high\n",
        "cut_labels = [0, 1]\n",
        "\n",
        "# Range of the division 00-50 | 50-100\n",
        "cut_bins = [0, 50, float('inf')]\n",
        "\n",
        "# Cut and modify the needed columns\n",
        "pl['Global_innovation_indices'] = pd.cut(pl['Global_innovation_indices'], bins=cut_bins, labels=cut_labels, include_lowest=True)\n",
        "pl['Business_Sophistication'] = pd.cut(pl['Business_Sophistication'], bins=cut_bins, labels=cut_labels, include_lowest=True)\n",
        "pl['Knowledge_and_technology_outputs'] = pd.cut(pl['Knowledge_and_technology_outputs'], bins=cut_bins, labels=cut_labels, include_lowest=True)\n",
        "pl['Market_sophistication'] = pd.cut(pl['Market_sophistication'], bins=cut_bins, labels=cut_labels, include_lowest=True)\n",
        "pl['Pollution'] = pd.cut(pl['Pollution'], bins=cut_bins, labels=cut_labels, include_lowest=True)\n",
        "\n",
        "pl.head(12)"
      ]
    },
    {
      "cell_type": "markdown",
      "id": "61cdbc7a",
      "metadata": {
        "id": "61cdbc7a"
      },
      "source": [
        "As we can observe, the values were higly discretize, becoming only binary. This division represent:\n",
        "\n",
        "- **0**: Low range of evaluation (between 00 - 50)\n",
        "\n",
        "\n",
        "- **1**: High range of evaluation (between 50 - 100)\n",
        "\n",
        "Even though all the values are said to be between 00 and 100, most of them only reach a maximum of 70 since these are evaluation values, and thus is generally difficult to reach the maximum evaluation possible. All the evaluated high range of values of each indicator were shown to be particularly different from eachother, making the division in bands (e.g. 00-20, 20-40, ...) ending up with some bands with 0 values for some indicators.\n",
        "\n",
        "In addition to this, the low amount of data made a more refined division of the values not easy to implement and also not really worth in terms of information retrieval."
      ]
    },
    {
      "cell_type": "markdown",
      "id": "fabe6f50",
      "metadata": {
        "id": "fabe6f50"
      },
      "source": [
        "### Preview of the wanted network\n",
        "\n",
        "![Pollution.png](data:image/png;base64,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)"
      ]
    },
    {
      "cell_type": "markdown",
      "id": "20c201f7",
      "metadata": {
        "id": "20c201f7"
      },
      "source": [
        "### Structure of the network\n",
        "\n",
        "In this project, we will focus on the relation between the **amount of pollution generated by a country given its state of innovation**.\n",
        "\n",
        "We are considering that the state of innovation is mainly influenced by the general business sophistication as well as the sophistication of the market.\n",
        "\n",
        "Lastly, we want to put on the spot also the correlation between the sophistication of the businesses and the general amount of knowledge and skills present in the given country.\n",
        "\n",
        "**Flow of influence**:\n",
        "\n",
        "- Knowledge → Direct cause → Business sophistication\n",
        "\n",
        "\n",
        "- Global innovation → Common effect → Business and Market sophistication\n",
        "\n",
        "\n",
        "- Pollution → Direct effect → Global innovation\n",
        "\n",
        "Also, it was chosen to calculate all the possible variables and structure of the network autonomously. Behind this project, there was a specific network layout in mind, with a specific causal relationship between the variables. Approaches like _Hill Climbing_ or _Tree Search_ were therefore tried, for completeness reasons, but discarded shortly after.\n",
        "\n",
        "Here we can see the two example of the generated network which we didn't consider appropriated for the goal of this project."
      ]
    },
    {
      "cell_type": "code",
      "execution_count": null,
      "id": "e354367e",
      "metadata": {
        "colab": {
          "referenced_widgets": [
            "d808a813986848ee8e85f71d74e12972"
          ]
        },
        "id": "e354367e",
        "outputId": "ffdd706c-bfaa-4feb-ac29-ab0d99f0cc3a"
      },
      "outputs": [
        {
          "data": {
            "application/vnd.jupyter.widget-view+json": {
              "model_id": "d808a813986848ee8e85f71d74e12972",
              "version_major": 2,
              "version_minor": 0
            },
            "text/plain": [
              "Building tree:   0%|          | 0/10.0 [00:00<?, ?it/s]"
            ]
          },
          "metadata": {},
          "output_type": "display_data"
        },
        {
          "data": {
            "image/png": "[encoded data removed]",
            "text/plain": [
              "<Figure size 432x288 with 1 Axes>"
            ]
          },
          "metadata": {},
          "output_type": "display_data"
        }
      ],
      "source": [
        "# Test performed with Tree Search\n",
        "\n",
        "from pgmpy.estimators import TreeSearch\n",
        "import networkx as nx\n",
        "import matplotlib.pyplot as plt\n",
        "\n",
        "# Graph structure\n",
        "tree = TreeSearch(pl)\n",
        "dag = tree.estimate(estimator_type = \"chow-liu\")\n",
        "\n",
        "# Show network\n",
        "nx.draw_planar(\n",
        "    dag, with_labels=True, arrowsize=30, node_size=800, alpha=0.8\n",
        ")\n",
        "plt.show()\n",
        "test_model = dag"
      ]
    },
    {
      "cell_type": "code",
      "execution_count": null,
      "id": "f7f9a2f5",
      "metadata": {
        "colab": {
          "referenced_widgets": [
            "77b686acb5ce464f82278c673d1f93b3"
          ]
        },
        "id": "f7f9a2f5",
        "outputId": "26513bcb-19ce-48c3-81ec-923f28dd4b5b"
      },
      "outputs": [
        {
          "data": {
            "application/vnd.jupyter.widget-view+json": {
              "model_id": "77b686acb5ce464f82278c673d1f93b3",
              "version_major": 2,
              "version_minor": 0
            },
            "text/plain": [
              "  0%|          | 0/1000 [00:00<?, ?it/s]"
            ]
          },
          "metadata": {},
          "output_type": "display_data"
        },
        {
          "name": "stdout",
          "output_type": "stream",
          "text": [
            "[('Global_innovation_indices', 'Pollution'), ('Global_innovation_indices', 'Business_Sophistication'), ('Knowledge_and_technology_outputs', 'Business_Sophistication'), ('Knowledge_and_technology_outputs', 'Global_innovation_indices'), ('Market_sophistication', 'Business_Sophistication'), ('Market_sophistication', 'Global_innovation_indices')]\n"
          ]
        },
        {
          "data": {
            "image/png": "[encoded data removed]",
            "text/plain": [
              "<Figure size 576x360 with 1 Axes>"
            ]
          },
          "metadata": {},
          "output_type": "display_data"
        }
      ],
      "source": [
        "from pgmpy.estimators import HillClimbSearch\n",
        "hc = HillClimbSearch(pl)\n",
        "black_list = []\n",
        "# The market is not influenced by other variables\n",
        "black_list += [(x, 'Market_sophistication') for x in pl.columns]\n",
        "# Knowledge is not influenced by other variables\n",
        "black_list += [(x, 'Knowledge_and_technology_outputs') for x in pl.columns] \n",
        "best_model_test = hc.estimate(scoring_method='k2score', epsilon=1e-10, max_iter=1000, black_list=black_list)\n",
        "print(best_model_test.edges())\n",
        "\n",
        "model_test = best_model_test\n",
        "\n",
        "import networkx as nx\n",
        "import matplotlib.pyplot as plt\n",
        "fig = plt.figure(figsize=(8,5))\n",
        "fig.suptitle('Network structure estimation with hill climbing search')\n",
        "nx.draw_shell(\n",
        "    model_test, with_labels=True, arrowsize=25, node_size=900, alpha=0.8, font_weight=\"bold\", font_size=12\n",
        ")\n",
        "plt.show()"
      ]
    },
    {
      "cell_type": "markdown",
      "id": "dca27a36",
      "metadata": {
        "id": "dca27a36"
      },
      "source": [
        "### Generating probabilities\n",
        "\n",
        "The first probabilities which we are going to compute are the one regarding the knowledge and technological outputs and the market sophistication.\n",
        "\n",
        "These two probabilities will form our base knowledge about the problem, creating the foundation on which the othe variabiles will be dependent on."
      ]
    },
    {
      "cell_type": "code",
      "execution_count": null,
      "id": "73a93956",
      "metadata": {
        "id": "73a93956"
      },
      "outputs": [],
      "source": [
        "# Declaration of the variables\n",
        "precision = 3\n",
        "range_max = 2\n",
        "temp = []"
      ]
    },
    {
      "cell_type": "code",
      "execution_count": null,
      "id": "1783fbcd",
      "metadata": {
        "id": "1783fbcd"
      },
      "outputs": [],
      "source": [
        "# Lists used to generate the Bayesian Network\n",
        "\n",
        "# Countries divided by range of Knowledge_range\n",
        "knowledge_range = []\n",
        "\n",
        "# Countries divided by range of Market_sophistication\n",
        "market_range = []\n",
        "\n",
        "# Countries divided by range of Market_sophistication\n",
        "business_range = []\n",
        "\n",
        "# Countries divided by range of Global_innovation_indices\n",
        "innovation_range = []\n",
        "\n",
        "# Countries divided by range of Pollution\n",
        "pollution_range = []"
      ]
    },
    {
      "cell_type": "code",
      "execution_count": null,
      "id": "86a693f3",
      "metadata": {
        "id": "86a693f3"
      },
      "outputs": [],
      "source": [
        "# Iterate to divide by range both Knowledge_range and Market_sophistication\n",
        "for threshold_i in range(range_max):\n",
        "    \n",
        "    # Range of countries by knowledge\n",
        "    dk = pl[pl['Knowledge_and_technology_outputs'] == threshold_i]\n",
        "    # Append the results\n",
        "    knowledge_range.append([round(len(dk)/total_countries, precision)])\n",
        "        \n",
        "    # Range of countries by market\n",
        "    dm = pl[pl['Market_sophistication'] == threshold_i]\n",
        "    # Append the results\n",
        "    market_range.append([round(len(dm)/total_countries, precision)])"
      ]
    },
    {
      "cell_type": "markdown",
      "id": "c407d63b",
      "metadata": {
        "id": "c407d63b"
      },
      "source": [
        "Now all the remaining probabilities are going to be contidioned probabilities. To calculate them we will firstly reduce the datasets leaving only the entries where the given knowledge occur. On this reduced dataset we will evaluate the probability of our wanted information.\n",
        "\n",
        "We will then generate the conditioned probability of business sophistication given the knowledge and technological output."
      ]
    },
    {
      "cell_type": "code",
      "execution_count": null,
      "id": "047eaaaa",
      "metadata": {
        "id": "047eaaaa"
      },
      "outputs": [],
      "source": [
        "# Iterate to calculate the conditioned probability P(business_range | knowledge_range)\n",
        "for threshold_i in range(range_max):\n",
        "    \n",
        "    # Get the specific knowledge range\n",
        "    df_knowledge = pl[pl['Knowledge_and_technology_outputs'] == threshold_i]\n",
        "    \n",
        "    # Iterate to find the business_range in the specific knowledge_range\n",
        "    for threshold_j in range(range_max):\n",
        "        df_business = df_knowledge[df_knowledge['Business_Sophistication'] == threshold_j]\n",
        "        \n",
        "        # Prevent division by 0\n",
        "        if len(df_business) == 0:\n",
        "            temp.append(.0)\n",
        "        else:\n",
        "            temp.append(round(len(df_business)/len(df_knowledge), precision))\n",
        "            \n",
        "    # Append and empty temp\n",
        "    business_range.append(temp)\n",
        "    temp = []\n"
      ]
    },
    {
      "cell_type": "markdown",
      "id": "fdb1686d",
      "metadata": {
        "id": "fdb1686d"
      },
      "source": [
        "And perform the same with the conditioned probability of the global innovation indices."
      ]
    },
    {
      "cell_type": "code",
      "execution_count": null,
      "id": "c0debfad",
      "metadata": {
        "id": "c0debfad"
      },
      "outputs": [],
      "source": [
        "# Empty temp\n",
        "temp = []\n",
        "\n",
        "# Iterate to calculate the conditioned probability P(innovation_range | business_range, market_range)\n",
        "for threshold_i in range(range_max):\n",
        "    \n",
        "    # Get the specific business range\n",
        "    df_business = pl[pl['Business_Sophistication'] == threshold_i]\n",
        "    \n",
        "    # Iterate to find the market_range \n",
        "    for threshold_j in range(range_max):\n",
        "        df_market = df_business[df_business['Market_sophistication'] == threshold_j]\n",
        "        \n",
        "        # Iterate to find the innovation_range in the specific business_range and market_range\n",
        "        for threshold_k in range(range_max):\n",
        "            df_innovation = df_market[df_market['Global_innovation_indices'] == threshold_k]\n",
        "        \n",
        "            # Prevent division by 0\n",
        "            if len(df_innovation) == 0:\n",
        "                temp.append(.0)\n",
        "            else:\n",
        "                temp.append(round(len(df_innovation)/len(df_market), precision))\n",
        "            \n",
        "        # Append and empty temp\n",
        "        innovation_range.append(temp)\n",
        "        temp = []"
      ]
    },
    {
      "cell_type": "markdown",
      "id": "c636c546",
      "metadata": {
        "id": "c636c546"
      },
      "source": [
        "Lastly, the conditioned probability of Pollution given the just evaluated innovation probability."
      ]
    },
    {
      "cell_type": "code",
      "execution_count": null,
      "id": "882d6e7d",
      "metadata": {
        "id": "882d6e7d"
      },
      "outputs": [],
      "source": [
        "# Empty temp\n",
        "temp = []\n",
        "\n",
        "# Iterate to calculate the conditioned probability P(pollution_range | innovation_range)\n",
        "for threshold_i in range(range_max):\n",
        "    \n",
        "    # Get the specific innovation range\n",
        "    df_innovation = pl[pl['Global_innovation_indices'] == threshold_i]\n",
        "    \n",
        "    # Iterate to find the pollution_range in the specific innovation_range\n",
        "    for threshold_j in range(range_max):\n",
        "        df_pollution = df_innovation[df_innovation['Pollution'] == threshold_j]\n",
        "        \n",
        "        # Prevent division by 0\n",
        "        if len(df_pollution) == 0:\n",
        "            temp.append(.0)\n",
        "        else:\n",
        "            temp.append(round(len(df_pollution)/len(df_innovation), precision))\n",
        "            \n",
        "    # Append and empty temp\n",
        "    pollution_range.append(temp)\n",
        "    temp = []"
      ]
    },
    {
      "cell_type": "markdown",
      "id": "5d56c04f",
      "metadata": {
        "id": "5d56c04f"
      },
      "source": [
        "### Tabular representation of the generated probabilities"
      ]
    },
    {
      "cell_type": "code",
      "execution_count": null,
      "id": "fd2a142b",
      "metadata": {
        "id": "fd2a142b"
      },
      "outputs": [],
      "source": [
        "# Table representation of knowledge_range and market_range\n",
        "table_km = [[' ', 'P(knowledge_range)', 'P(market_range)'],\n",
        "         ['00 - 50', knowledge_range[0][0], market_range[0][0]],\n",
        "         ['50 - 100', knowledge_range[1][0], market_range[1][0]]]"
      ]
    },
    {
      "cell_type": "code",
      "execution_count": null,
      "id": "22b5d5f2",
      "metadata": {
        "id": "22b5d5f2"
      },
      "outputs": [],
      "source": [
        "# Table representation of business_range\n",
        "table_b = [[' ', 'P(00-50)', 'P(50-100)']]\n",
        "values = []\n",
        "j = 0\n",
        "\n",
        "# Iterate the values\n",
        "for i in range(range_max):\n",
        "    \n",
        "    # Skip first empty list\n",
        "    if j != 0:\n",
        "        table_b.append(values)\n",
        "        values = []\n",
        "    \n",
        "    # Format the range string\n",
        "    rng = '%s - %s' % (i*50, i*50 + 50)\n",
        "    values.append(rng)\n",
        "\n",
        "    # Iterate the values found\n",
        "    for k in range(len(business_range[j])):\n",
        "        values.append(business_range[j][k])\n",
        "        \n",
        "    j += 1\n",
        "\n",
        "\n",
        "table_b.append(values)"
      ]
    },
    {
      "cell_type": "code",
      "execution_count": null,
      "id": "b6e6d093",
      "metadata": {
        "id": "b6e6d093"
      },
      "outputs": [],
      "source": [
        "# Table representation of innovation_range\n",
        "table_i = [[' ', 'P(00-50)', 'P(50-100)']]\n",
        "values = []\n",
        "j = 0\n",
        "\n",
        "for threshold_i in range(range_max):\n",
        "    \n",
        "    for threshold_j in range(range_max):\n",
        "        # Format the range string\n",
        "        rng = '%s - %s | %s - %s' % (threshold_i*50, threshold_i*50 +50, threshold_j*50, threshold_j*50 + 50)\n",
        "        values.append(rng)\n",
        "        \n",
        "        for k in range(len(innovation_range[j])):\n",
        "            values.append(innovation_range[j][k])\n",
        "                            \n",
        "        j += 1\n",
        "        table_i.append(values)\n",
        "        values = []"
      ]
    },
    {
      "cell_type": "code",
      "execution_count": null,
      "id": "2f1b4d5b",
      "metadata": {
        "id": "2f1b4d5b"
      },
      "outputs": [],
      "source": [
        "# Table representation of pollution_range\n",
        "table_p = [[' ', 'P(00-50)', 'P(50-100)']]\n",
        "values = []\n",
        "j = 0\n",
        "\n",
        "# Iterate the values\n",
        "for i in range(range_max):\n",
        "    \n",
        "    # Format the range string\n",
        "    rng = '%s - %s' % (i*50, i*50 + 50)\n",
        "    values.append(rng)\n",
        "\n",
        "    # Iterate the values found\n",
        "    for k in range(len(pollution_range[j])):\n",
        "        values.append(pollution_range[j][k])\n",
        "        \n",
        "    j += 1\n",
        "    table_p.append(values)\n",
        "    values = []"
      ]
    },
    {
      "cell_type": "code",
      "execution_count": null,
      "id": "52c9af18",
      "metadata": {
        "id": "52c9af18",
        "outputId": "2c5ee33d-90a2-427e-a826-a469f26a7f01"
      },
      "outputs": [
        {
          "name": "stdout",
          "output_type": "stream",
          "text": [
            "\n",
            "\n",
            "\n",
            "P(knowledge_range),  P(market_range)\n",
            "\n",
            "+----------+----------------------+-------------------+\n",
            "|          |   P(knowledge_range) |   P(market_range) |\n",
            "+==========+======================+===================+\n",
            "| 00 - 50  |                0.915 |             0.574 |\n",
            "+----------+----------------------+-------------------+\n",
            "| 50 - 100 |                0.085 |             0.426 |\n",
            "+----------+----------------------+-------------------+\n",
            "\n",
            "\n",
            "\n",
            "P(business_range | knowledge_range)\n",
            "\n",
            "+----------+------------+-------------+\n",
            "|          |   P(00-50) |   P(50-100) |\n",
            "+==========+============+=============+\n",
            "| 0 - 50   |      0.872 |       0.128 |\n",
            "+----------+------------+-------------+\n",
            "| 50 - 100 |      0.125 |       0.875 |\n",
            "+----------+------------+-------------+\n",
            "\n",
            "\n",
            "\n",
            "P(innovation_range | business_range, market_range)\n",
            "\n",
            "+---------------------+------------+-------------+\n",
            "|                     |   P(00-50) |   P(50-100) |\n",
            "+=====================+============+=============+\n",
            "| 0 - 50 | 0 - 50     |      1     |       0     |\n",
            "+---------------------+------------+-------------+\n",
            "| 0 - 50 | 50 - 100   |      0.88  |       0.12  |\n",
            "+---------------------+------------+-------------+\n",
            "| 50 - 100 | 0 - 50   |      0.667 |       0.333 |\n",
            "+---------------------+------------+-------------+\n",
            "| 50 - 100 | 50 - 100 |      0.067 |       0.933 |\n",
            "+---------------------+------------+-------------+\n",
            "\n",
            "\n",
            "\n",
            "P(pollution_range | innovation_range)\n",
            "\n",
            "+----------+------------+-------------+\n",
            "|          |   P(00-50) |   P(50-100) |\n",
            "+==========+============+=============+\n",
            "| 0 - 50   |      0.237 |       0.763 |\n",
            "+----------+------------+-------------+\n",
            "| 50 - 100 |      0.833 |       0.167 |\n",
            "+----------+------------+-------------+\n"
          ]
        }
      ],
      "source": [
        "# Print of all the probabilities tables\n",
        "\n",
        "\n",
        "print('\\n\\n\\nP(knowledge_range),  P(market_range)\\n')\n",
        "print(tabulate(table_km, headers='firstrow', tablefmt='grid'))\n",
        "\n",
        "print('\\n\\n\\nP(business_range | knowledge_range)\\n')\n",
        "print(tabulate(table_b, headers='firstrow', tablefmt='grid'))\n",
        "\n",
        "print('\\n\\n\\nP(innovation_range | business_range, market_range)\\n')\n",
        "print(tabulate(table_i, headers='firstrow', tablefmt='grid'))\n",
        "\n",
        "print('\\n\\n\\nP(pollution_range | innovation_range)\\n')\n",
        "print(tabulate(table_p, headers='firstrow', tablefmt='grid'))"
      ]
    },
    {
      "cell_type": "markdown",
      "id": "98261798",
      "metadata": {
        "id": "98261798"
      },
      "source": [
        "---\n",
        "\n",
        "# Bayesian network"
      ]
    },
    {
      "cell_type": "code",
      "execution_count": null,
      "id": "5fa5f9ee",
      "metadata": {
        "id": "5fa5f9ee"
      },
      "outputs": [],
      "source": [
        "# Transpose lists\n",
        "\n",
        "business_range_T = list(map(list, zip(*business_range)))\n",
        "innovation_range_T = list(map(list, zip(*innovation_range)))\n",
        "pollution_range_T = list(map(list, zip(*pollution_range)))"
      ]
    },
    {
      "cell_type": "code",
      "execution_count": null,
      "id": "cc9b9745",
      "metadata": {
        "id": "cc9b9745",
        "outputId": "31e463e0-3fcc-4f9e-b3ec-291b6753a9c0"
      },
      "outputs": [
        {
          "name": "stdout",
          "output_type": "stream",
          "text": [
            "Model validity: True\n"
          ]
        },
        {
          "name": "stderr",
          "output_type": "stream",
          "text": [
            "/home/stefano/.local/lib/python3.8/site-packages/pgmpy/models/BayesianModel.py:8: FutureWarning: BayesianModel has been renamed to BayesianNetwork. Please use BayesianNetwork class, BayesianModel will be removed in future.\n",
            "  warnings.warn(\n"
          ]
        }
      ],
      "source": [
        "# Defining of the bayesian network structure\n",
        "pollution_network = BayesianModel([('Knowledge', 'Business'), ('Business', 'Innovation'), ('Market', 'Innovation'), ('Innovation', 'Pollution')])\n",
        "\n",
        "# Defining the CPDs\n",
        "cpd_knowledge = TabularCPD('Knowledge', 2, knowledge_range)\n",
        "\n",
        "cpd_market = TabularCPD('Market', 2, market_range)\n",
        "\n",
        "cpd_business = TabularCPD('Business', 2, business_range_T, evidence = ['Knowledge'], evidence_card = [2])\n",
        "\n",
        "cpd_innovation = TabularCPD('Innovation', 2, innovation_range_T, evidence = ['Business', 'Market'], evidence_card = [2,2])\n",
        "\n",
        "cpd_pollution = TabularCPD('Pollution', 2, pollution_range_T, evidence = ['Innovation'], evidence_card = [2])\n",
        "\n",
        "pollution_network.add_cpds(cpd_business,cpd_knowledge,cpd_market,cpd_innovation, cpd_pollution)\n",
        "\n",
        "\n",
        "print('Model validity:', pollution_network.check_model())"
      ]
    },
    {
      "cell_type": "markdown",
      "id": "071ab8a5",
      "metadata": {
        "id": "071ab8a5"
      },
      "source": [
        "---\n",
        "#  Exact Inference\n",
        "\n",
        "Given the small dimension of the dataset, we can compute inference by variable elimination without having to worry about computational time."
      ]
    },
    {
      "cell_type": "code",
      "execution_count": null,
      "id": "d0c8b6d4",
      "metadata": {
        "colab": {
          "referenced_widgets": [
            "9341f1e19a28439f859bf70c34efe94d",
            "546b9d6daf7b49f7bf29484ac1432be1"
          ]
        },
        "id": "d0c8b6d4",
        "outputId": "cd2c21f6-8fe9-4b1c-d35a-6073c4a85c03"
      },
      "outputs": [
        {
          "data": {
            "application/vnd.jupyter.widget-view+json": {
              "model_id": "9341f1e19a28439f859bf70c34efe94d",
              "version_major": 2,
              "version_minor": 0
            },
            "text/plain": [
              "  0%|          | 0/1 [00:00<?, ?it/s]"
            ]
          },
          "metadata": {},
          "output_type": "display_data"
        },
        {
          "data": {
            "application/vnd.jupyter.widget-view+json": {
              "model_id": "546b9d6daf7b49f7bf29484ac1432be1",
              "version_major": 2,
              "version_minor": 0
            },
            "text/plain": [
              "  0%|          | 0/1 [00:00<?, ?it/s]"
            ]
          },
          "metadata": {},
          "output_type": "display_data"
        }
      ],
      "source": [
        "# Set the network to performe inference\n",
        "pollution_inference = VariableElimination(pollution_network)\n",
        "\n",
        "# The prior probability of Business\n",
        "q_1 = pollution_inference.query(['Business'])"
      ]
    },
    {
      "cell_type": "code",
      "execution_count": null,
      "id": "72e8f62d",
      "metadata": {
        "colab": {
          "referenced_widgets": [
            "977689d3366c4a369c7075e725db82ed",
            "e7a8262f7b3b4a12b31f4b5f460b9bc1"
          ]
        },
        "id": "72e8f62d",
        "outputId": "c14683e7-cde8-4522-b1a0-9b66dc44247d"
      },
      "outputs": [
        {
          "data": {
            "application/vnd.jupyter.widget-view+json": {
              "model_id": "977689d3366c4a369c7075e725db82ed",
              "version_major": 2,
              "version_minor": 0
            },
            "text/plain": [
              "  0%|          | 0/3 [00:00<?, ?it/s]"
            ]
          },
          "metadata": {},
          "output_type": "display_data"
        },
        {
          "data": {
            "application/vnd.jupyter.widget-view+json": {
              "model_id": "e7a8262f7b3b4a12b31f4b5f460b9bc1",
              "version_major": 2,
              "version_minor": 0
            },
            "text/plain": [
              "  0%|          | 0/3 [00:00<?, ?it/s]"
            ]
          },
          "metadata": {},
          "output_type": "display_data"
        }
      ],
      "source": [
        "# The prior probability of Innovation\n",
        "q_2 = pollution_inference.query(['Innovation'])"
      ]
    },
    {
      "cell_type": "code",
      "execution_count": null,
      "id": "281b7d2b",
      "metadata": {
        "colab": {
          "referenced_widgets": [
            "ecc773e919284c4885fe986f63695265",
            "bf8e0add79324540adb653bf84cb0763"
          ]
        },
        "id": "281b7d2b",
        "outputId": "aed8cac8-b33f-45c7-d502-3ec6f383cf3b"
      },
      "outputs": [
        {
          "data": {
            "application/vnd.jupyter.widget-view+json": {
              "model_id": "ecc773e919284c4885fe986f63695265",
              "version_major": 2,
              "version_minor": 0
            },
            "text/plain": [
              "  0%|          | 0/4 [00:00<?, ?it/s]"
            ]
          },
          "metadata": {},
          "output_type": "display_data"
        },
        {
          "data": {
            "application/vnd.jupyter.widget-view+json": {
              "model_id": "bf8e0add79324540adb653bf84cb0763",
              "version_major": 2,
              "version_minor": 0
            },
            "text/plain": [
              "  0%|          | 0/4 [00:00<?, ?it/s]"
            ]
          },
          "metadata": {},
          "output_type": "display_data"
        }
      ],
      "source": [
        "# The prior probability of Pollution\n",
        "q_3 = pollution_inference.query(['Pollution'])"
      ]
    },
    {
      "cell_type": "code",
      "execution_count": null,
      "id": "a8ba216a",
      "metadata": {
        "id": "a8ba216a",
        "outputId": "de7a1511-3b95-4895-8897-67cc75c13877"
      },
      "outputs": [
        {
          "name": "stdout",
          "output_type": "stream",
          "text": [
            "\n",
            "\n",
            "P(business)\n",
            "+-------------+-----------------+\n",
            "| Business    |   phi(Business) |\n",
            "+=============+=================+\n",
            "| Business(0) |          0.8085 |\n",
            "+-------------+-----------------+\n",
            "| Business(1) |          0.1915 |\n",
            "+-------------+-----------------+\n",
            "\n",
            "\n",
            "P(innovation)\n",
            "+---------------+-------------------+\n",
            "| Innovation    |   phi(Innovation) |\n",
            "+===============+===================+\n",
            "| Innovation(0) |            0.8460 |\n",
            "+---------------+-------------------+\n",
            "| Innovation(1) |            0.1540 |\n",
            "+---------------+-------------------+\n",
            "\n",
            "\n",
            "P(pollution)\n",
            "+--------------+------------------+\n",
            "| Pollution    |   phi(Pollution) |\n",
            "+==============+==================+\n",
            "| Pollution(0) |           0.3288 |\n",
            "+--------------+------------------+\n",
            "| Pollution(1) |           0.6712 |\n",
            "+--------------+------------------+\n"
          ]
        }
      ],
      "source": [
        "# Prints \n",
        "print('\\n\\nP(business)')\n",
        "print(q_1)\n",
        "\n",
        "print('\\n\\nP(innovation)')\n",
        "print(q_2)\n",
        "\n",
        "print('\\n\\nP(pollution)')\n",
        "print(q_3)"
      ]
    },
    {
      "cell_type": "markdown",
      "id": "aacce5e1",
      "metadata": {
        "id": "aacce5e1"
      },
      "source": [
        "It is clear that the majority of the sampled nations, even the most \"advanced\" ones, do not largely surpass 50 as evaluation in all fields. This can be seen in these first probabilities, where the probability of being in the low range of business and innovation sophistication it's a significant **80%** and **84%**.\n",
        "\n",
        "The \"best\" prior probability that we can notice refers to the pollution one, where the ratio low-high it's close to **30%-70%**."
      ]
    },
    {
      "cell_type": "code",
      "execution_count": null,
      "id": "98f2419f",
      "metadata": {
        "colab": {
          "referenced_widgets": [
            "86602d24a5e04b87983d1538964b0ba2",
            "b7c1d333bee44130b2499cfdc283ceae",
            "c0a8754d3e2e435e906d717dd93b35e9",
            "6a3554c8c173499b8e5549059897d5f2"
          ]
        },
        "id": "98f2419f",
        "outputId": "6195c377-6e30-4989-d81b-2cb7b67c6bcf"
      },
      "outputs": [
        {
          "data": {
            "application/vnd.jupyter.widget-view+json": {
              "model_id": "86602d24a5e04b87983d1538964b0ba2",
              "version_major": 2,
              "version_minor": 0
            },
            "text/plain": [
              "  0%|          | 0/2 [00:00<?, ?it/s]"
            ]
          },
          "metadata": {},
          "output_type": "display_data"
        },
        {
          "data": {
            "application/vnd.jupyter.widget-view+json": {
              "model_id": "b7c1d333bee44130b2499cfdc283ceae",
              "version_major": 2,
              "version_minor": 0
            },
            "text/plain": [
              "  0%|          | 0/2 [00:00<?, ?it/s]"
            ]
          },
          "metadata": {},
          "output_type": "display_data"
        },
        {
          "name": "stdout",
          "output_type": "stream",
          "text": [
            "P(innovation | knowledge = high)\n",
            "+---------------+-------------------+\n",
            "| Innovation    |   phi(Innovation) |\n",
            "+===============+===================+\n",
            "| Innovation(0) |            0.4786 |\n",
            "+---------------+-------------------+\n",
            "| Innovation(1) |            0.5214 |\n",
            "+---------------+-------------------+\n"
          ]
        },
        {
          "data": {
            "application/vnd.jupyter.widget-view+json": {
              "model_id": "c0a8754d3e2e435e906d717dd93b35e9",
              "version_major": 2,
              "version_minor": 0
            },
            "text/plain": [
              "  0%|          | 0/2 [00:00<?, ?it/s]"
            ]
          },
          "metadata": {},
          "output_type": "display_data"
        },
        {
          "data": {
            "application/vnd.jupyter.widget-view+json": {
              "model_id": "6a3554c8c173499b8e5549059897d5f2",
              "version_major": 2,
              "version_minor": 0
            },
            "text/plain": [
              "  0%|          | 0/2 [00:00<?, ?it/s]"
            ]
          },
          "metadata": {},
          "output_type": "display_data"
        },
        {
          "name": "stdout",
          "output_type": "stream",
          "text": [
            "P(innovation | knowledge = low)\n",
            "+---------------+-------------------+\n",
            "| Innovation    |   phi(Innovation) |\n",
            "+===============+===================+\n",
            "| Innovation(0) |            0.8801 |\n",
            "+---------------+-------------------+\n",
            "| Innovation(1) |            0.1199 |\n",
            "+---------------+-------------------+\n"
          ]
        }
      ],
      "source": [
        "# Being in the high range of knowledge, how perform innovation\n",
        "q_4 = pollution_inference.query(['Innovation'],{'Knowledge':1})\n",
        "print('P(innovation | knowledge = high)')\n",
        "print(q_4)\n",
        "\n",
        "# Being in the lower range of knowledge, how perform innovation\n",
        "q_5 = pollution_inference.query(['Innovation'],{'Knowledge':0})\n",
        "print('P(innovation | knowledge = low)')\n",
        "print(q_5)"
      ]
    },
    {
      "cell_type": "markdown",
      "id": "11e3153c",
      "metadata": {
        "id": "11e3153c"
      },
      "source": [
        "A clear and maybe unsurprising remark is the correlation between the global innovation index and the amount of knowledge of a nation.\n",
        "\n",
        "The higher the knowledge is, the higher will be the probability of having a well innovative nation, almost **50%-50%**.\n",
        "\n",
        "Instead, if the knowledge is on the low end of the spectrum, the chances of being a well innovative nation steeply drop down, arriving at a close **90%-10%** ratio."
      ]
    },
    {
      "cell_type": "code",
      "execution_count": null,
      "id": "18d89e49",
      "metadata": {
        "colab": {
          "referenced_widgets": [
            "0da3e11e29ec439785d05c9d1189d362",
            "ede64738e2b74569b6958ef541b614c3",
            "06cb8cc304a749c5b47d315cc773419d",
            "10d014930a494f16b84728422702c6a0",
            "da8affaab91f4f258b16c772caadba7e",
            "9f6f30ad0d434a82a7eddddf09bbe799",
            "ca1b040b6e0f4d75b3b2ec7cb6dcd1ea",
            "3fbd5fac9aba4d8197950bc7bc894ce6"
          ]
        },
        "id": "18d89e49",
        "outputId": "0f05fe15-10e5-4f0c-bd22-055d61a804b8"
      },
      "outputs": [
        {
          "data": {
            "application/vnd.jupyter.widget-view+json": {
              "model_id": "0da3e11e29ec439785d05c9d1189d362",
              "version_major": 2,
              "version_minor": 0
            },
            "text/plain": [
              "  0%|          | 0/1 [00:00<?, ?it/s]"
            ]
          },
          "metadata": {},
          "output_type": "display_data"
        },
        {
          "data": {
            "application/vnd.jupyter.widget-view+json": {
              "model_id": "ede64738e2b74569b6958ef541b614c3",
              "version_major": 2,
              "version_minor": 0
            },
            "text/plain": [
              "  0%|          | 0/1 [00:00<?, ?it/s]"
            ]
          },
          "metadata": {},
          "output_type": "display_data"
        },
        {
          "name": "stdout",
          "output_type": "stream",
          "text": [
            "P(pollution | business = low, market = low)\n",
            "+--------------+------------------+\n",
            "| Pollution    |   phi(Pollution) |\n",
            "+==============+==================+\n",
            "| Pollution(0) |           0.2370 |\n",
            "+--------------+------------------+\n",
            "| Pollution(1) |           0.7630 |\n",
            "+--------------+------------------+\n"
          ]
        },
        {
          "data": {
            "application/vnd.jupyter.widget-view+json": {
              "model_id": "06cb8cc304a749c5b47d315cc773419d",
              "version_major": 2,
              "version_minor": 0
            },
            "text/plain": [
              "  0%|          | 0/1 [00:00<?, ?it/s]"
            ]
          },
          "metadata": {},
          "output_type": "display_data"
        },
        {
          "data": {
            "application/vnd.jupyter.widget-view+json": {
              "model_id": "10d014930a494f16b84728422702c6a0",
              "version_major": 2,
              "version_minor": 0
            },
            "text/plain": [
              "  0%|          | 0/1 [00:00<?, ?it/s]"
            ]
          },
          "metadata": {},
          "output_type": "display_data"
        },
        {
          "name": "stdout",
          "output_type": "stream",
          "text": [
            "P(pollution | business = high, market = low)\n",
            "+--------------+------------------+\n",
            "| Pollution    |   phi(Pollution) |\n",
            "+==============+==================+\n",
            "| Pollution(0) |           0.4355 |\n",
            "+--------------+------------------+\n",
            "| Pollution(1) |           0.5645 |\n",
            "+--------------+------------------+\n"
          ]
        },
        {
          "data": {
            "application/vnd.jupyter.widget-view+json": {
              "model_id": "da8affaab91f4f258b16c772caadba7e",
              "version_major": 2,
              "version_minor": 0
            },
            "text/plain": [
              "  0%|          | 0/1 [00:00<?, ?it/s]"
            ]
          },
          "metadata": {},
          "output_type": "display_data"
        },
        {
          "data": {
            "application/vnd.jupyter.widget-view+json": {
              "model_id": "9f6f30ad0d434a82a7eddddf09bbe799",
              "version_major": 2,
              "version_minor": 0
            },
            "text/plain": [
              "  0%|          | 0/1 [00:00<?, ?it/s]"
            ]
          },
          "metadata": {},
          "output_type": "display_data"
        },
        {
          "name": "stdout",
          "output_type": "stream",
          "text": [
            "P(pollution | business = low, market = high)\n",
            "+--------------+------------------+\n",
            "| Pollution    |   phi(Pollution) |\n",
            "+==============+==================+\n",
            "| Pollution(0) |           0.3085 |\n",
            "+--------------+------------------+\n",
            "| Pollution(1) |           0.6915 |\n",
            "+--------------+------------------+\n"
          ]
        },
        {
          "data": {
            "application/vnd.jupyter.widget-view+json": {
              "model_id": "ca1b040b6e0f4d75b3b2ec7cb6dcd1ea",
              "version_major": 2,
              "version_minor": 0
            },
            "text/plain": [
              "  0%|          | 0/1 [00:00<?, ?it/s]"
            ]
          },
          "metadata": {},
          "output_type": "display_data"
        },
        {
          "data": {
            "application/vnd.jupyter.widget-view+json": {
              "model_id": "3fbd5fac9aba4d8197950bc7bc894ce6",
              "version_major": 2,
              "version_minor": 0
            },
            "text/plain": [
              "  0%|          | 0/1 [00:00<?, ?it/s]"
            ]
          },
          "metadata": {},
          "output_type": "display_data"
        },
        {
          "name": "stdout",
          "output_type": "stream",
          "text": [
            "P(pollution | business = high, market = high)\n",
            "+--------------+------------------+\n",
            "| Pollution    |   phi(Pollution) |\n",
            "+==============+==================+\n",
            "| Pollution(0) |           0.7931 |\n",
            "+--------------+------------------+\n",
            "| Pollution(1) |           0.2069 |\n",
            "+--------------+------------------+\n"
          ]
        }
      ],
      "source": [
        "# Pollution knowing that we are in the lower range of business and market\n",
        "q_6 = pollution_inference.query(['Pollution'],{'Business':0,'Market':0})\n",
        "print('P(pollution | business = low, market = low)')\n",
        "print(q_6)\n",
        "\n",
        "# Pollution knowing that we are in the low range of market but high range of business\n",
        "q_7 = pollution_inference.query(['Pollution'],{'Business':1,'Market':0})\n",
        "print('P(pollution | business = high, market = low)')\n",
        "print(q_7)\n",
        "\n",
        "# Pollution knowing that we are in the high range of market but low range of business\n",
        "q_8 = pollution_inference.query(['Pollution'],{'Business':0,'Market':1})\n",
        "print('P(pollution | business = low, market = high)')\n",
        "print(q_8)\n",
        "\n",
        "# Pollution knowing that we are in the high range of market and business\n",
        "q_9 = pollution_inference.query(['Pollution'],{'Business':1,'Market':1})\n",
        "print('P(pollution | business = high, market = high)')\n",
        "print(q_9)"
      ]
    },
    {
      "cell_type": "markdown",
      "id": "f08c63f8",
      "metadata": {
        "id": "f08c63f8"
      },
      "source": [
        "Even in this case two of the four results led to unsurprising results. \n",
        "\n",
        "Knowing that a nation has highly sophisticated businesses and market show a reduction in the amount of pollution, whereas, instead, a nation with low market and business sophistication show an increase in pollution emission.\n",
        "\n",
        "The two more interesting results were the one analyzing only one characteristic at a time.\n",
        "\n",
        "These two results show that it's more probable to have a lower amount of pollution if the businesses are the ones in the higher range of sophistication instead of the market. The trends of markets inevitably influence the direction of the industries, but it's a slow process that takes time. Businesses that autonomously take action in the direction of environmental-friendly improvement have a much more direct and imminent impact on pollution."
      ]
    },
    {
      "cell_type": "code",
      "execution_count": null,
      "id": "a1fd8d50",
      "metadata": {
        "colab": {
          "referenced_widgets": [
            "0442b5f3bf8c444497c550f2dde58d8f",
            "f02647a4970e49ac878a227082993a6c"
          ]
        },
        "id": "a1fd8d50",
        "outputId": "b7fadf71-d65f-4acb-d2cf-902b992ac684"
      },
      "outputs": [
        {
          "data": {
            "application/vnd.jupyter.widget-view+json": {
              "model_id": "0442b5f3bf8c444497c550f2dde58d8f",
              "version_major": 2,
              "version_minor": 0
            },
            "text/plain": [
              "  0%|          | 0/3 [00:00<?, ?it/s]"
            ]
          },
          "metadata": {},
          "output_type": "display_data"
        },
        {
          "data": {
            "application/vnd.jupyter.widget-view+json": {
              "model_id": "f02647a4970e49ac878a227082993a6c",
              "version_major": 2,
              "version_minor": 0
            },
            "text/plain": [
              "  0%|          | 0/3 [00:00<?, ?it/s]"
            ]
          },
          "metadata": {},
          "output_type": "display_data"
        },
        {
          "name": "stdout",
          "output_type": "stream",
          "text": [
            "P(business | pollution = low)\n",
            "+-------------+-----------------+\n",
            "| Business    |   phi(Business) |\n",
            "+=============+=================+\n",
            "| Business(0) |          0.6577 |\n",
            "+-------------+-----------------+\n",
            "| Business(1) |          0.3423 |\n",
            "+-------------+-----------------+\n"
          ]
        }
      ],
      "source": [
        "# Business sophistication knowing that we are in the high range of pollution\n",
        "q_10 = pollution_inference.query(['Business'],{'Pollution':0})\n",
        "print('P(business | pollution = low)')\n",
        "print(q_10)"
      ]
    },
    {
      "cell_type": "markdown",
      "id": "7fdd4d4e",
      "metadata": {
        "id": "7fdd4d4e"
      },
      "source": [
        "Another interesting result is that, if we assume to have a low range amount of pollution, this does not directly imply a general high sophistication of the businesses. \n",
        "\n",
        "We can notice instead that the low-high businesses ratio stays roughly at **65%-35%**, showing general backwardness in the level of businesses."
      ]
    },
    {
      "cell_type": "code",
      "execution_count": null,
      "id": "2b5ba639",
      "metadata": {
        "colab": {
          "referenced_widgets": [
            "9d0627884a6f4dacabb533c28b5e1ed6",
            "0886171447e746189171515a63ec5a4d",
            "666c4d74f49c4007bcca0b5be8fb522a",
            "1710121f37c74fc7a287e8f187aba451"
          ]
        },
        "id": "2b5ba639",
        "outputId": "1e8173c9-e121-48ec-e1d5-b145347addcb"
      },
      "outputs": [
        {
          "data": {
            "application/vnd.jupyter.widget-view+json": {
              "model_id": "9d0627884a6f4dacabb533c28b5e1ed6",
              "version_major": 2,
              "version_minor": 0
            },
            "text/plain": [
              "  0%|          | 0/3 [00:00<?, ?it/s]"
            ]
          },
          "metadata": {},
          "output_type": "display_data"
        },
        {
          "data": {
            "application/vnd.jupyter.widget-view+json": {
              "model_id": "0886171447e746189171515a63ec5a4d",
              "version_major": 2,
              "version_minor": 0
            },
            "text/plain": [
              "  0%|          | 0/3 [00:00<?, ?it/s]"
            ]
          },
          "metadata": {},
          "output_type": "display_data"
        },
        {
          "name": "stdout",
          "output_type": "stream",
          "text": [
            "P(Innovation | pollution = low)\n",
            "+---------------+-------------------+\n",
            "| Innovation    |   phi(Innovation) |\n",
            "+===============+===================+\n",
            "| Innovation(0) |            0.6097 |\n",
            "+---------------+-------------------+\n",
            "| Innovation(1) |            0.3903 |\n",
            "+---------------+-------------------+\n"
          ]
        },
        {
          "data": {
            "application/vnd.jupyter.widget-view+json": {
              "model_id": "666c4d74f49c4007bcca0b5be8fb522a",
              "version_major": 2,
              "version_minor": 0
            },
            "text/plain": [
              "  0%|          | 0/3 [00:00<?, ?it/s]"
            ]
          },
          "metadata": {},
          "output_type": "display_data"
        },
        {
          "data": {
            "application/vnd.jupyter.widget-view+json": {
              "model_id": "1710121f37c74fc7a287e8f187aba451",
              "version_major": 2,
              "version_minor": 0
            },
            "text/plain": [
              "  0%|          | 0/3 [00:00<?, ?it/s]"
            ]
          },
          "metadata": {},
          "output_type": "display_data"
        },
        {
          "name": "stdout",
          "output_type": "stream",
          "text": [
            "P(Innovation | pollution = high)\n",
            "+---------------+-------------------+\n",
            "| Innovation    |   phi(Innovation) |\n",
            "+===============+===================+\n",
            "| Innovation(0) |            0.9617 |\n",
            "+---------------+-------------------+\n",
            "| Innovation(1) |            0.0383 |\n",
            "+---------------+-------------------+\n"
          ]
        }
      ],
      "source": [
        "# Innovationn knowing that we are in the low range of pollution\n",
        "q_11 = pollution_inference.query(['Innovation'],{'Pollution':0})\n",
        "print('P(Innovation | pollution = low)')\n",
        "print(q_11)\n",
        "\n",
        "# Innovationn knowing that we are in the High range of pollution\n",
        "q_12 = pollution_inference.query(['Innovation'],{'Pollution':1})\n",
        "print('P(Innovation | pollution = high)')\n",
        "print(q_12)"
      ]
    },
    {
      "cell_type": "markdown",
      "id": "74039413",
      "metadata": {
        "id": "74039413"
      },
      "source": [
        "Lastly, the most concerning relation that we wanted to analyze was the one between innovation and pollution.\n",
        "\n",
        "If we know that the amount of pollution is remarkable, it will be almost a compleate certainty that the given country will not have an higehr degree of innovation (A strong **96%**).\n",
        "\n",
        "Instead, given a low amount of pollution, the general innovation status of the nation will increase, but not by a well defined margin. Generally, the probability of having an high innovation rating won't even reach the **40%**."
      ]
    },
    {
      "cell_type": "markdown",
      "id": "17e3bb73",
      "metadata": {
        "id": "17e3bb73"
      },
      "source": [
        "### Markov blanket\n",
        "\n",
        "Quick display of the Markov blanket properties applied to Innovation and Pollution. This notion results particulary important in big networks since it gives a notion of important nodes with respect of the given one (other external nodes could be ignored since they wouldn't be used in the computation)."
      ]
    },
    {
      "cell_type": "code",
      "execution_count": null,
      "id": "dc21e529",
      "metadata": {
        "id": "dc21e529",
        "outputId": "037bd7e5-6ea3-434d-bb00-f88838e043aa"
      },
      "outputs": [
        {
          "data": {
            "text/plain": [
              "['Pollution', 'Business', 'Market']"
            ]
          },
          "execution_count": 28,
          "metadata": {},
          "output_type": "execute_result"
        }
      ],
      "source": [
        "pollution_network.get_markov_blanket('Innovation')"
      ]
    },
    {
      "cell_type": "code",
      "execution_count": null,
      "id": "0b1928a0",
      "metadata": {
        "id": "0b1928a0",
        "outputId": "70356bc9-eb85-459e-d8dc-18147dd661bd"
      },
      "outputs": [
        {
          "data": {
            "text/plain": [
              "['Innovation']"
            ]
          },
          "execution_count": 29,
          "metadata": {},
          "output_type": "execute_result"
        }
      ],
      "source": [
        "pollution_network.get_markov_blanket('Pollution')"
      ]
    },
    {
      "cell_type": "markdown",
      "id": "ae5b841b",
      "metadata": {
        "id": "ae5b841b"
      },
      "source": [
        "---\n",
        "# Conclusions\n",
        "\n",
        "Ultimately, even with a small-scale dataset like the one used in this project, the results do not differ that much from the globally already understood pollution situation.\n",
        "\n",
        "We mainly discovered:\n",
        "\n",
        "- **General backwardness** in all the inspected fields\n",
        "\n",
        "\n",
        "- The **high impact of knowledge** (education) on the businesses' sophistication\n",
        "\n",
        "\n",
        "- A lower amount of pollution is more likely to happen if the businesses are the ones more developed instead of the market (**slowness of the markets**)\n",
        "\n",
        "\n",
        "- A low range of pollution **does not strongly imply** the probability of having a general high range of innovation"
      ]
    }
  ],
  "metadata": {
    "kernelspec": {
      "display_name": "Python 3 (ipykernel)",
      "language": "python",
      "name": "python3"
    },
    "language_info": {
      "codemirror_mode": {
        "name": "ipython",
        "version": 3
      },
      "file_extension": ".py",
      "mimetype": "text/x-python",
      "name": "python",
      "nbconvert_exporter": "python",
      "pygments_lexer": "ipython3",
      "version": "3.8.8"
    },
    "colab": {
      "provenance": []
    }
  },
  "nbformat": 4,
  "nbformat_minor": 5
}